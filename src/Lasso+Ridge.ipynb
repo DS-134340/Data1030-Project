{
 "cells": [
  {
   "cell_type": "code",
   "execution_count": 1,
   "id": "34497627",
   "metadata": {},
   "outputs": [
    {
     "name": "stdout",
     "output_type": "stream",
     "text": [
      "\u001b[42m[ OK ]\u001b[0m Python version is 3.9.7 | packaged by conda-forge | (default, Sep  2 2021, 17:55:20) [MSC v.1916 64 bit (AMD64)]\n",
      "\n",
      "\u001b[42m[ OK ]\u001b[0m numpy version 1.21.1 is installed.\n",
      "\u001b[42m[ OK ]\u001b[0m matplotlib version 3.4.2 is installed.\n",
      "\u001b[42m[ OK ]\u001b[0m sklearn version 0.24.2 is installed.\n",
      "\u001b[42m[ OK ]\u001b[0m pandas version 1.3.1 is installed.\n",
      "\u001b[42m[ OK ]\u001b[0m xgboost version 1.3.3 is installed.\n",
      "\u001b[42m[ OK ]\u001b[0m shap version 0.39.0 is installed.\n"
     ]
    }
   ],
   "source": [
    "from __future__ import print_function\n",
    "from distutils.version import LooseVersion as Version\n",
    "import sys\n",
    "\n",
    "OK = '\\x1b[42m[ OK ]\\x1b[0m'\n",
    "FAIL = \"\\x1b[41m[FAIL]\\x1b[0m\"\n",
    "\n",
    "try:\n",
    "    import importlib\n",
    "except ImportError:\n",
    "    print(FAIL, \"Python version 3.9 is required,\"\n",
    "                \" but %s is installed.\" % sys.version)\n",
    "\n",
    "def import_version(pkg, min_ver, fail_msg=\"\"):\n",
    "    mod = None\n",
    "    try:\n",
    "        mod = importlib.import_module(pkg)\n",
    "        if pkg in {'PIL'}:\n",
    "            ver = mod.VERSION\n",
    "        else:\n",
    "            ver = mod.__version__\n",
    "        if Version(ver) == min_ver:\n",
    "            print(OK, \"%s version %s is installed.\"\n",
    "                  % (lib, min_ver))\n",
    "        else:\n",
    "            print(FAIL, \"%s version %s is required, but %s installed.\"\n",
    "                  % (lib, min_ver, ver))    \n",
    "    except ImportError:\n",
    "        print(FAIL, '%s not installed. %s' % (pkg, fail_msg))\n",
    "    return mod\n",
    "\n",
    "\n",
    "# first check the python version\n",
    "pyversion = Version(sys.version)\n",
    "if pyversion >= \"3.9\":\n",
    "    print(OK, \"Python version is %s\" % sys.version)\n",
    "elif pyversion < \"3.9\":\n",
    "    print(FAIL, \"Python version 3.9 is required,\"\n",
    "                \" but %s is installed.\" % sys.version)\n",
    "else:\n",
    "    print(FAIL, \"Unknown Python version: %s\" % sys.version)\n",
    "\n",
    "    \n",
    "print()\n",
    "requirements = {'numpy': \"1.21.1\", 'matplotlib': \"3.4.2\",'sklearn': \"0.24.2\", \n",
    "                'pandas': \"1.3.1\",'xgboost': \"1.3.3\", 'shap': \"0.39.0\"}\n",
    "\n",
    "# now the dependencies\n",
    "for lib, required_version in list(requirements.items()):\n",
    "    import_version(lib, required_version)"
   ]
  },
  {
   "cell_type": "code",
   "execution_count": 2,
   "id": "558b2fd1",
   "metadata": {},
   "outputs": [
    {
     "name": "stdout",
     "output_type": "stream",
     "text": [
      "Populating the interactive namespace from numpy and matplotlib\n"
     ]
    },
    {
     "name": "stderr",
     "output_type": "stream",
     "text": [
      "pylab import has clobbered these variables: ['plt']\n",
      "`%matplotlib` prevents importing * from pylab and numpy\n"
     ]
    }
   ],
   "source": [
    "import pandas as pd\n",
    "import numpy as np\n",
    "import seaborn as sns\n",
    "import matplotlib\n",
    "from matplotlib import pylab as plt\n",
    "%pylab inline\n",
    "from matplotlib import rcParams\n",
    "from sklearn.model_selection import train_test_split\n",
    "from sklearn.compose import ColumnTransformer\n",
    "from sklearn.preprocessing import OneHotEncoder, MinMaxScaler, StandardScaler\n",
    "from sklearn.pipeline import Pipeline\n",
    "from sklearn.metrics import mean_absolute_error\n",
    "from  sklearn.linear_model import Lasso, Ridge\n",
    "from sklearn.tree import DecisionTreeRegressor\n",
    "from sklearn.ensemble import RandomForestRegressor\n",
    "from sklearn.model_selection import ParameterGrid"
   ]
  },
  {
   "cell_type": "code",
   "execution_count": 3,
   "id": "2a106469",
   "metadata": {},
   "outputs": [],
   "source": [
    "fontsize=14\n",
    "rcParams['font.size']=fontsize\n",
    "rcParams['font.family']='sans-serif'\n",
    "rcParams['axes.labelsize']=fontsize\n",
    "rcParams['axes.titlesize']=fontsize\n",
    "rcParams['xtick.labelsize']=12\n",
    "rcParams['ytick.labelsize']=fontsize\n",
    "rcParams['legend.fontsize']=fontsize\n",
    "rcParams['figure.figsize']=(10,7.5)\n",
    "rcParams['axes.grid']=True"
   ]
  },
  {
   "cell_type": "code",
   "execution_count": 4,
   "id": "5ead3a9c",
   "metadata": {},
   "outputs": [],
   "source": [
    "pd.set_option('display.max_columns', None)"
   ]
  },
  {
   "cell_type": "code",
   "execution_count": null,
   "id": "1a1c0044",
   "metadata": {},
   "outputs": [],
   "source": [
    "df = pd.read_csv('data/train_V2.csv')\n",
    "df.sample(10)"
   ]
  },
  {
   "cell_type": "code",
   "execution_count": null,
   "id": "4c3c4dab",
   "metadata": {},
   "outputs": [],
   "source": [
    "df.shape"
   ]
  },
  {
   "cell_type": "code",
   "execution_count": null,
   "id": "b3cfbcb3",
   "metadata": {},
   "outputs": [],
   "source": [
    "df.info()"
   ]
  },
  {
   "cell_type": "code",
   "execution_count": null,
   "id": "681ed810",
   "metadata": {},
   "outputs": [],
   "source": [
    "df.describe()"
   ]
  },
  {
   "cell_type": "code",
   "execution_count": null,
   "id": "a6dd051d",
   "metadata": {},
   "outputs": [],
   "source": [
    "df.isnull().sum()"
   ]
  },
  {
   "cell_type": "code",
   "execution_count": null,
   "id": "4136cbe0",
   "metadata": {},
   "outputs": [],
   "source": [
    "df.dropna(axis=0, inplace=True)"
   ]
  },
  {
   "cell_type": "code",
   "execution_count": null,
   "id": "549ea8a1",
   "metadata": {},
   "outputs": [],
   "source": [
    "df.shape"
   ]
  },
  {
   "cell_type": "code",
   "execution_count": null,
   "id": "ae2c7cf3",
   "metadata": {},
   "outputs": [],
   "source": [
    "match_df = df.groupby('matchId').count()['Id']"
   ]
  },
  {
   "cell_type": "code",
   "execution_count": null,
   "id": "d2a7dfa5",
   "metadata": {},
   "outputs": [],
   "source": [
    "fig = plt.figure()\n",
    "plt.violinplot(match_df)\n",
    "plt.ylabel('number of players')\n",
    "plt.xlabel('match')\n",
    "plt.title('Number of Players in Each Match')\n",
    "plt.show()\n",
    "fig.savefig('figures/Number of Players in Each Match.jpg', dpi = 300)"
   ]
  },
  {
   "cell_type": "code",
   "execution_count": null,
   "id": "fba5a8f5",
   "metadata": {},
   "outputs": [],
   "source": [
    "fig,ax = plt.subplots(figsize=(16,12))\n",
    "ax = sns.heatmap(df.corr(), annot=True)\n",
    "fig.savefig('figures/Correlation.jpg', dpi = 300)"
   ]
  },
  {
   "cell_type": "code",
   "execution_count": null,
   "id": "79ee5ddd",
   "metadata": {},
   "outputs": [],
   "source": [
    "fig = plt.figure()\n",
    "df['winPlacePerc'].plot.hist(bins=100)\n",
    "plt.xlabel('win place percentage')\n",
    "plt.ylabel('count')\n",
    "plt.title('Distribution of Win Place')\n",
    "plt.show()\n",
    "fig.savefig('figures/Distribution of Win Place.jpg', dpi = 300)"
   ]
  },
  {
   "cell_type": "code",
   "execution_count": null,
   "id": "8c62f172",
   "metadata": {},
   "outputs": [],
   "source": [
    "fig = plt.figure()\n",
    "df.plot.scatter('killPlace','winPlacePerc',s=1,alpha=0.1)\n",
    "plt.ylabel('win place percentage')\n",
    "plt.xlabel('kill place')\n",
    "plt.title('Distribution of Win Place vs. Kill Place')\n",
    "plt.show()\n",
    "fig.savefig('figures/Distribution of Win Place vs. Kill Place.jpg', dpi = 300)"
   ]
  },
  {
   "cell_type": "code",
   "execution_count": null,
   "id": "8d0e2ee0",
   "metadata": {},
   "outputs": [],
   "source": [
    "fig = plt.figure()\n",
    "df['walkDistance'].plot.hist(bins=50, log=True)\n",
    "plt.xlabel('walk distance')\n",
    "plt.ylabel('count')\n",
    "plt.title('Distribution of Walk Distance')\n",
    "plt.show()\n",
    "fig.savefig('figures/Distribution of Walk Distance.jpg', dpi = 300)"
   ]
  },
  {
   "cell_type": "code",
   "execution_count": null,
   "id": "845aa195",
   "metadata": {},
   "outputs": [],
   "source": [
    "fig = plt.figure()\n",
    "df['kills'].plot.hist(bins=df['kills'].nunique(), log=True)\n",
    "plt.xlabel('kills')\n",
    "plt.ylabel('count')\n",
    "plt.title('Distribution of Kills')\n",
    "plt.show()\n",
    "fig.savefig('figures/Distribution of Kills.jpg', dpi = 300)"
   ]
  },
  {
   "cell_type": "code",
   "execution_count": null,
   "id": "c9904a38",
   "metadata": {},
   "outputs": [],
   "source": [
    "fig = plt.figure()\n",
    "df[['winPlacePerc','matchType']].boxplot(by='matchType',figsize=(22,16.5))\n",
    "plt.ylabel('win place percentage')\n",
    "plt.xlabel('match type')\n",
    "plt.title('Distribution of Win Place')\n",
    "plt.show()\n",
    "fig.savefig('figures/Distribution of Win Place by Match Type.jpg', dpi = 300)"
   ]
  },
  {
   "cell_type": "code",
   "execution_count": null,
   "id": "fc7d8bb8",
   "metadata": {},
   "outputs": [],
   "source": [
    "fig = plt.figure()\n",
    "pd.value_counts(df['matchType'],normalize=True).plot.bar()\n",
    "plt.ylabel('fraction')\n",
    "plt.xlabel('match type')\n",
    "plt.title('Distribution of Match Type')\n",
    "plt.show()\n",
    "fig.savefig('figures/Distribution of Match Type.jpg', dpi = 300)"
   ]
  },
  {
   "cell_type": "code",
   "execution_count": null,
   "id": "d704b731",
   "metadata": {},
   "outputs": [],
   "source": [
    "fig = plt.figure()\n",
    "pd.plotting.scatter_matrix(df[['assists', 'boosts', 'killPlace', 'kills', 'winPlacePerc']], marker='o', s=1, alpha=0.1)\n",
    "plt.show()\n",
    "fig.savefig('figures/Scatter Matrix.jpg', dpi = 300)"
   ]
  },
  {
   "cell_type": "code",
   "execution_count": null,
   "id": "cd5fa8fe",
   "metadata": {},
   "outputs": [],
   "source": [
    "n = len(pd.unique(df['Id']))\n",
    "n"
   ]
  },
  {
   "cell_type": "code",
   "execution_count": null,
   "id": "e20ac168",
   "metadata": {},
   "outputs": [],
   "source": [
    "column_list = ['assists', 'boosts', 'damageDealt', 'DBNOs', 'headshotKills', 'heals', 'killPlace', 'killPoints', 'kills', \n",
    "               'killStreaks', 'longestKill', 'matchDuration', 'matchType', 'maxPlace', 'revives', 'rideDistance', \n",
    "               'roadKills', 'swimDistance', 'teamKills', 'vehicleDestroys', 'walkDistance', 'weaponsAcquired', 'winPoints', \n",
    "               'winPlacePerc']"
   ]
  },
  {
   "cell_type": "code",
   "execution_count": null,
   "id": "74b4fd35",
   "metadata": {},
   "outputs": [],
   "source": [
    "ndf = df[column_list]\n",
    "ndf.sample(10)"
   ]
  },
  {
   "cell_type": "code",
   "execution_count": null,
   "id": "c5b6cba3",
   "metadata": {},
   "outputs": [],
   "source": [
    "ndf.shape"
   ]
  },
  {
   "cell_type": "code",
   "execution_count": null,
   "id": "d96e8d0a",
   "metadata": {},
   "outputs": [],
   "source": [
    "sdf = ndf.sample(round(0.01*len(ndf)), random_state=11)\n",
    "sdf.to_csv('data/sample.csv')"
   ]
  },
  {
   "cell_type": "code",
   "execution_count": 5,
   "id": "15143d44",
   "metadata": {},
   "outputs": [
    {
     "data": {
      "text/html": [
       "<div>\n",
       "<style scoped>\n",
       "    .dataframe tbody tr th:only-of-type {\n",
       "        vertical-align: middle;\n",
       "    }\n",
       "\n",
       "    .dataframe tbody tr th {\n",
       "        vertical-align: top;\n",
       "    }\n",
       "\n",
       "    .dataframe thead th {\n",
       "        text-align: right;\n",
       "    }\n",
       "</style>\n",
       "<table border=\"1\" class=\"dataframe\">\n",
       "  <thead>\n",
       "    <tr style=\"text-align: right;\">\n",
       "      <th></th>\n",
       "      <th>Unnamed: 0</th>\n",
       "      <th>assists</th>\n",
       "      <th>boosts</th>\n",
       "      <th>damageDealt</th>\n",
       "      <th>DBNOs</th>\n",
       "      <th>headshotKills</th>\n",
       "      <th>heals</th>\n",
       "      <th>killPlace</th>\n",
       "      <th>killPoints</th>\n",
       "      <th>kills</th>\n",
       "      <th>killStreaks</th>\n",
       "      <th>longestKill</th>\n",
       "      <th>matchDuration</th>\n",
       "      <th>matchType</th>\n",
       "      <th>maxPlace</th>\n",
       "      <th>revives</th>\n",
       "      <th>rideDistance</th>\n",
       "      <th>roadKills</th>\n",
       "      <th>swimDistance</th>\n",
       "      <th>teamKills</th>\n",
       "      <th>vehicleDestroys</th>\n",
       "      <th>walkDistance</th>\n",
       "      <th>weaponsAcquired</th>\n",
       "      <th>winPoints</th>\n",
       "      <th>winPlacePerc</th>\n",
       "    </tr>\n",
       "  </thead>\n",
       "  <tbody>\n",
       "    <tr>\n",
       "      <th>0</th>\n",
       "      <td>2069048</td>\n",
       "      <td>0</td>\n",
       "      <td>0</td>\n",
       "      <td>57.33</td>\n",
       "      <td>0</td>\n",
       "      <td>0</td>\n",
       "      <td>0</td>\n",
       "      <td>82</td>\n",
       "      <td>0</td>\n",
       "      <td>0</td>\n",
       "      <td>0</td>\n",
       "      <td>0.00</td>\n",
       "      <td>1382</td>\n",
       "      <td>squad</td>\n",
       "      <td>27</td>\n",
       "      <td>0</td>\n",
       "      <td>0.0</td>\n",
       "      <td>0</td>\n",
       "      <td>0.0</td>\n",
       "      <td>0</td>\n",
       "      <td>0</td>\n",
       "      <td>199.2</td>\n",
       "      <td>2</td>\n",
       "      <td>0</td>\n",
       "      <td>0.1538</td>\n",
       "    </tr>\n",
       "    <tr>\n",
       "      <th>1</th>\n",
       "      <td>25967</td>\n",
       "      <td>3</td>\n",
       "      <td>5</td>\n",
       "      <td>217.10</td>\n",
       "      <td>1</td>\n",
       "      <td>0</td>\n",
       "      <td>2</td>\n",
       "      <td>22</td>\n",
       "      <td>1231</td>\n",
       "      <td>1</td>\n",
       "      <td>1</td>\n",
       "      <td>141.80</td>\n",
       "      <td>2091</td>\n",
       "      <td>squad</td>\n",
       "      <td>26</td>\n",
       "      <td>0</td>\n",
       "      <td>2405.0</td>\n",
       "      <td>0</td>\n",
       "      <td>0.0</td>\n",
       "      <td>0</td>\n",
       "      <td>1</td>\n",
       "      <td>3711.0</td>\n",
       "      <td>5</td>\n",
       "      <td>1530</td>\n",
       "      <td>0.9200</td>\n",
       "    </tr>\n",
       "    <tr>\n",
       "      <th>2</th>\n",
       "      <td>2896533</td>\n",
       "      <td>0</td>\n",
       "      <td>0</td>\n",
       "      <td>242.70</td>\n",
       "      <td>0</td>\n",
       "      <td>0</td>\n",
       "      <td>0</td>\n",
       "      <td>63</td>\n",
       "      <td>0</td>\n",
       "      <td>0</td>\n",
       "      <td>0</td>\n",
       "      <td>0.00</td>\n",
       "      <td>1361</td>\n",
       "      <td>squad-fpp</td>\n",
       "      <td>28</td>\n",
       "      <td>0</td>\n",
       "      <td>0.0</td>\n",
       "      <td>0</td>\n",
       "      <td>0.0</td>\n",
       "      <td>0</td>\n",
       "      <td>0</td>\n",
       "      <td>593.8</td>\n",
       "      <td>2</td>\n",
       "      <td>0</td>\n",
       "      <td>0.3704</td>\n",
       "    </tr>\n",
       "    <tr>\n",
       "      <th>3</th>\n",
       "      <td>3314281</td>\n",
       "      <td>0</td>\n",
       "      <td>0</td>\n",
       "      <td>100.00</td>\n",
       "      <td>1</td>\n",
       "      <td>0</td>\n",
       "      <td>0</td>\n",
       "      <td>31</td>\n",
       "      <td>0</td>\n",
       "      <td>1</td>\n",
       "      <td>1</td>\n",
       "      <td>13.73</td>\n",
       "      <td>1387</td>\n",
       "      <td>duo-fpp</td>\n",
       "      <td>48</td>\n",
       "      <td>0</td>\n",
       "      <td>0.0</td>\n",
       "      <td>0</td>\n",
       "      <td>11.3</td>\n",
       "      <td>0</td>\n",
       "      <td>0</td>\n",
       "      <td>1150.0</td>\n",
       "      <td>3</td>\n",
       "      <td>0</td>\n",
       "      <td>0.7234</td>\n",
       "    </tr>\n",
       "    <tr>\n",
       "      <th>4</th>\n",
       "      <td>2707511</td>\n",
       "      <td>0</td>\n",
       "      <td>0</td>\n",
       "      <td>63.21</td>\n",
       "      <td>0</td>\n",
       "      <td>0</td>\n",
       "      <td>0</td>\n",
       "      <td>81</td>\n",
       "      <td>0</td>\n",
       "      <td>0</td>\n",
       "      <td>0</td>\n",
       "      <td>0.00</td>\n",
       "      <td>1800</td>\n",
       "      <td>duo-fpp</td>\n",
       "      <td>49</td>\n",
       "      <td>0</td>\n",
       "      <td>0.0</td>\n",
       "      <td>0</td>\n",
       "      <td>0.0</td>\n",
       "      <td>0</td>\n",
       "      <td>0</td>\n",
       "      <td>94.5</td>\n",
       "      <td>2</td>\n",
       "      <td>0</td>\n",
       "      <td>0.1667</td>\n",
       "    </tr>\n",
       "  </tbody>\n",
       "</table>\n",
       "</div>"
      ],
      "text/plain": [
       "   Unnamed: 0  assists  boosts  damageDealt  DBNOs  headshotKills  heals  \\\n",
       "0     2069048        0       0        57.33      0              0      0   \n",
       "1       25967        3       5       217.10      1              0      2   \n",
       "2     2896533        0       0       242.70      0              0      0   \n",
       "3     3314281        0       0       100.00      1              0      0   \n",
       "4     2707511        0       0        63.21      0              0      0   \n",
       "\n",
       "   killPlace  killPoints  kills  killStreaks  longestKill  matchDuration  \\\n",
       "0         82           0      0            0         0.00           1382   \n",
       "1         22        1231      1            1       141.80           2091   \n",
       "2         63           0      0            0         0.00           1361   \n",
       "3         31           0      1            1        13.73           1387   \n",
       "4         81           0      0            0         0.00           1800   \n",
       "\n",
       "   matchType  maxPlace  revives  rideDistance  roadKills  swimDistance  \\\n",
       "0      squad        27        0           0.0          0           0.0   \n",
       "1      squad        26        0        2405.0          0           0.0   \n",
       "2  squad-fpp        28        0           0.0          0           0.0   \n",
       "3    duo-fpp        48        0           0.0          0          11.3   \n",
       "4    duo-fpp        49        0           0.0          0           0.0   \n",
       "\n",
       "   teamKills  vehicleDestroys  walkDistance  weaponsAcquired  winPoints  \\\n",
       "0          0                0         199.2                2          0   \n",
       "1          0                1        3711.0                5       1530   \n",
       "2          0                0         593.8                2          0   \n",
       "3          0                0        1150.0                3          0   \n",
       "4          0                0          94.5                2          0   \n",
       "\n",
       "   winPlacePerc  \n",
       "0        0.1538  \n",
       "1        0.9200  \n",
       "2        0.3704  \n",
       "3        0.7234  \n",
       "4        0.1667  "
      ]
     },
     "execution_count": 5,
     "metadata": {},
     "output_type": "execute_result"
    }
   ],
   "source": [
    "sdf = pd.read_csv('data/sample.csv')\n",
    "sdf.head()"
   ]
  },
  {
   "cell_type": "code",
   "execution_count": 6,
   "id": "9886ba87",
   "metadata": {},
   "outputs": [
    {
     "data": {
      "text/html": [
       "<div>\n",
       "<style scoped>\n",
       "    .dataframe tbody tr th:only-of-type {\n",
       "        vertical-align: middle;\n",
       "    }\n",
       "\n",
       "    .dataframe tbody tr th {\n",
       "        vertical-align: top;\n",
       "    }\n",
       "\n",
       "    .dataframe thead th {\n",
       "        text-align: right;\n",
       "    }\n",
       "</style>\n",
       "<table border=\"1\" class=\"dataframe\">\n",
       "  <thead>\n",
       "    <tr style=\"text-align: right;\">\n",
       "      <th></th>\n",
       "      <th>assists</th>\n",
       "      <th>boosts</th>\n",
       "      <th>damageDealt</th>\n",
       "      <th>DBNOs</th>\n",
       "      <th>headshotKills</th>\n",
       "      <th>heals</th>\n",
       "      <th>killPlace</th>\n",
       "      <th>killPoints</th>\n",
       "      <th>kills</th>\n",
       "      <th>killStreaks</th>\n",
       "      <th>longestKill</th>\n",
       "      <th>matchDuration</th>\n",
       "      <th>matchType</th>\n",
       "      <th>maxPlace</th>\n",
       "      <th>revives</th>\n",
       "      <th>rideDistance</th>\n",
       "      <th>roadKills</th>\n",
       "      <th>swimDistance</th>\n",
       "      <th>teamKills</th>\n",
       "      <th>vehicleDestroys</th>\n",
       "      <th>walkDistance</th>\n",
       "      <th>weaponsAcquired</th>\n",
       "      <th>winPoints</th>\n",
       "      <th>winPlacePerc</th>\n",
       "    </tr>\n",
       "  </thead>\n",
       "  <tbody>\n",
       "    <tr>\n",
       "      <th>0</th>\n",
       "      <td>0</td>\n",
       "      <td>0</td>\n",
       "      <td>57.33</td>\n",
       "      <td>0</td>\n",
       "      <td>0</td>\n",
       "      <td>0</td>\n",
       "      <td>82</td>\n",
       "      <td>0</td>\n",
       "      <td>0</td>\n",
       "      <td>0</td>\n",
       "      <td>0.00</td>\n",
       "      <td>1382</td>\n",
       "      <td>squad</td>\n",
       "      <td>27</td>\n",
       "      <td>0</td>\n",
       "      <td>0.0</td>\n",
       "      <td>0</td>\n",
       "      <td>0.0</td>\n",
       "      <td>0</td>\n",
       "      <td>0</td>\n",
       "      <td>199.2</td>\n",
       "      <td>2</td>\n",
       "      <td>0</td>\n",
       "      <td>0.1538</td>\n",
       "    </tr>\n",
       "    <tr>\n",
       "      <th>1</th>\n",
       "      <td>3</td>\n",
       "      <td>5</td>\n",
       "      <td>217.10</td>\n",
       "      <td>1</td>\n",
       "      <td>0</td>\n",
       "      <td>2</td>\n",
       "      <td>22</td>\n",
       "      <td>1231</td>\n",
       "      <td>1</td>\n",
       "      <td>1</td>\n",
       "      <td>141.80</td>\n",
       "      <td>2091</td>\n",
       "      <td>squad</td>\n",
       "      <td>26</td>\n",
       "      <td>0</td>\n",
       "      <td>2405.0</td>\n",
       "      <td>0</td>\n",
       "      <td>0.0</td>\n",
       "      <td>0</td>\n",
       "      <td>1</td>\n",
       "      <td>3711.0</td>\n",
       "      <td>5</td>\n",
       "      <td>1530</td>\n",
       "      <td>0.9200</td>\n",
       "    </tr>\n",
       "    <tr>\n",
       "      <th>2</th>\n",
       "      <td>0</td>\n",
       "      <td>0</td>\n",
       "      <td>242.70</td>\n",
       "      <td>0</td>\n",
       "      <td>0</td>\n",
       "      <td>0</td>\n",
       "      <td>63</td>\n",
       "      <td>0</td>\n",
       "      <td>0</td>\n",
       "      <td>0</td>\n",
       "      <td>0.00</td>\n",
       "      <td>1361</td>\n",
       "      <td>squad-fpp</td>\n",
       "      <td>28</td>\n",
       "      <td>0</td>\n",
       "      <td>0.0</td>\n",
       "      <td>0</td>\n",
       "      <td>0.0</td>\n",
       "      <td>0</td>\n",
       "      <td>0</td>\n",
       "      <td>593.8</td>\n",
       "      <td>2</td>\n",
       "      <td>0</td>\n",
       "      <td>0.3704</td>\n",
       "    </tr>\n",
       "    <tr>\n",
       "      <th>3</th>\n",
       "      <td>0</td>\n",
       "      <td>0</td>\n",
       "      <td>100.00</td>\n",
       "      <td>1</td>\n",
       "      <td>0</td>\n",
       "      <td>0</td>\n",
       "      <td>31</td>\n",
       "      <td>0</td>\n",
       "      <td>1</td>\n",
       "      <td>1</td>\n",
       "      <td>13.73</td>\n",
       "      <td>1387</td>\n",
       "      <td>duo-fpp</td>\n",
       "      <td>48</td>\n",
       "      <td>0</td>\n",
       "      <td>0.0</td>\n",
       "      <td>0</td>\n",
       "      <td>11.3</td>\n",
       "      <td>0</td>\n",
       "      <td>0</td>\n",
       "      <td>1150.0</td>\n",
       "      <td>3</td>\n",
       "      <td>0</td>\n",
       "      <td>0.7234</td>\n",
       "    </tr>\n",
       "    <tr>\n",
       "      <th>4</th>\n",
       "      <td>0</td>\n",
       "      <td>0</td>\n",
       "      <td>63.21</td>\n",
       "      <td>0</td>\n",
       "      <td>0</td>\n",
       "      <td>0</td>\n",
       "      <td>81</td>\n",
       "      <td>0</td>\n",
       "      <td>0</td>\n",
       "      <td>0</td>\n",
       "      <td>0.00</td>\n",
       "      <td>1800</td>\n",
       "      <td>duo-fpp</td>\n",
       "      <td>49</td>\n",
       "      <td>0</td>\n",
       "      <td>0.0</td>\n",
       "      <td>0</td>\n",
       "      <td>0.0</td>\n",
       "      <td>0</td>\n",
       "      <td>0</td>\n",
       "      <td>94.5</td>\n",
       "      <td>2</td>\n",
       "      <td>0</td>\n",
       "      <td>0.1667</td>\n",
       "    </tr>\n",
       "  </tbody>\n",
       "</table>\n",
       "</div>"
      ],
      "text/plain": [
       "   assists  boosts  damageDealt  DBNOs  headshotKills  heals  killPlace  \\\n",
       "0        0       0        57.33      0              0      0         82   \n",
       "1        3       5       217.10      1              0      2         22   \n",
       "2        0       0       242.70      0              0      0         63   \n",
       "3        0       0       100.00      1              0      0         31   \n",
       "4        0       0        63.21      0              0      0         81   \n",
       "\n",
       "   killPoints  kills  killStreaks  longestKill  matchDuration  matchType  \\\n",
       "0           0      0            0         0.00           1382      squad   \n",
       "1        1231      1            1       141.80           2091      squad   \n",
       "2           0      0            0         0.00           1361  squad-fpp   \n",
       "3           0      1            1        13.73           1387    duo-fpp   \n",
       "4           0      0            0         0.00           1800    duo-fpp   \n",
       "\n",
       "   maxPlace  revives  rideDistance  roadKills  swimDistance  teamKills  \\\n",
       "0        27        0           0.0          0           0.0          0   \n",
       "1        26        0        2405.0          0           0.0          0   \n",
       "2        28        0           0.0          0           0.0          0   \n",
       "3        48        0           0.0          0          11.3          0   \n",
       "4        49        0           0.0          0           0.0          0   \n",
       "\n",
       "   vehicleDestroys  walkDistance  weaponsAcquired  winPoints  winPlacePerc  \n",
       "0                0         199.2                2          0        0.1538  \n",
       "1                1        3711.0                5       1530        0.9200  \n",
       "2                0         593.8                2          0        0.3704  \n",
       "3                0        1150.0                3          0        0.7234  \n",
       "4                0          94.5                2          0        0.1667  "
      ]
     },
     "execution_count": 6,
     "metadata": {},
     "output_type": "execute_result"
    }
   ],
   "source": [
    "nsdf = sdf.loc[:, sdf.columns != 'Unnamed: 0']\n",
    "nsdf.head()"
   ]
  },
  {
   "cell_type": "code",
   "execution_count": 7,
   "id": "c09e6e2f",
   "metadata": {},
   "outputs": [
    {
     "data": {
      "text/plain": [
       "44470"
      ]
     },
     "execution_count": 7,
     "metadata": {},
     "output_type": "execute_result"
    }
   ],
   "source": [
    "len(nsdf)"
   ]
  },
  {
   "cell_type": "code",
   "execution_count": 8,
   "id": "0dffa255",
   "metadata": {},
   "outputs": [],
   "source": [
    "X = nsdf.loc[:, nsdf.columns != 'winPlacePerc']\n",
    "y = nsdf['winPlacePerc']\n",
    "\n",
    "onehot_ftrs = ['matchType']\n",
    "minmax_ftrs = ['killPlace', 'maxPlace']\n",
    "std_ftrs = ['assists', 'boosts', 'damageDealt', 'DBNOs', 'headshotKills', 'heals', 'killPoints', 'kills', 'killStreaks', \n",
    "            'longestKill', 'matchDuration', 'revives', 'rideDistance', 'roadKills', 'swimDistance', 'teamKills', \n",
    "            'vehicleDestroys', 'walkDistance', 'weaponsAcquired', 'winPoints']\n",
    "\n",
    "preprocessor = ColumnTransformer(\n",
    "    transformers=[\n",
    "        ('onehot', OneHotEncoder(sparse=False,handle_unknown='ignore'), onehot_ftrs),\n",
    "        ('minmax', MinMaxScaler(), minmax_ftrs),\n",
    "        ('std', StandardScaler(), std_ftrs)])\n",
    "\n",
    "prep = Pipeline(steps=[('preprocessor', preprocessor)])"
   ]
  },
  {
   "cell_type": "code",
   "execution_count": 9,
   "id": "0997f495",
   "metadata": {},
   "outputs": [
    {
     "data": {
      "text/plain": [
       "array([1.e-07, 1.e-06, 1.e-05, 1.e-04, 1.e-03, 1.e-02, 1.e-01])"
      ]
     },
     "execution_count": 9,
     "metadata": {},
     "output_type": "execute_result"
    }
   ],
   "source": [
    "alpha = np.logspace(-7,-1,7)\n",
    "alpha"
   ]
  },
  {
   "cell_type": "code",
   "execution_count": 10,
   "id": "23ec53ac",
   "metadata": {},
   "outputs": [
    {
     "name": "stdout",
     "output_type": "stream",
     "text": [
      "best model parameters: 1e-07\n",
      "corresponding validation score: 0.08951492183965114\n",
      "test score: 0.08785433962237908\n",
      "best model parameters: 1e-07\n",
      "corresponding validation score: 0.08802668081343365\n",
      "test score: 0.08797100619156659\n",
      "best model parameters: 1e-07\n",
      "corresponding validation score: 0.08743352569725793\n",
      "test score: 0.08693195920063623\n",
      "best model parameters: 1e-07\n",
      "corresponding validation score: 0.08894966081738376\n",
      "test score: 0.08916462432195785\n",
      "best model parameters: 1e-07\n",
      "corresponding validation score: 0.08863244137920218\n",
      "test score: 0.08810369199894083\n",
      "best model parameters: 1e-07\n",
      "corresponding validation score: 0.08832557780293294\n",
      "test score: 0.08785255577904047\n"
     ]
    }
   ],
   "source": [
    "nr_states = 6\n",
    "test_scores = np.zeros(nr_states)\n",
    "final_models = []\n",
    "\n",
    "for i in range(nr_states):\n",
    "    X_train, X_other, y_train, y_other = train_test_split(X,y,train_size = 0.6,random_state=11*i)\n",
    "    X_val, X_test, y_val, y_test = train_test_split(X_other,y_other,train_size = 0.5,random_state=11*i)\n",
    "    \n",
    "    X_train_prep = prep.fit_transform(X_train)\n",
    "    X_val_prep = prep.transform(X_val)\n",
    "    X_test_prep = prep.transform(X_test)\n",
    "    \n",
    "    train_score = np.zeros(len(alpha))\n",
    "    val_score = np.zeros(len(alpha))\n",
    "    models = []\n",
    "    \n",
    "    for p in range(len(alpha)):\n",
    "        clf = Lasso(alpha=alpha[p],max_iter=100000000)\n",
    "        clf.fit(X_train_prep, y_train)\n",
    "        models.append(clf)\n",
    "        \n",
    "        y_train_pred = clf.predict(X_train_prep)\n",
    "        y_val_pred = clf.predict(X_val_prep)\n",
    "        y_train_pred = np.where(y_train_pred > 1.0, 1.0, y_train_pred)\n",
    "        y_train_pred = np.where(y_train_pred < 0.0, 0.0, y_train_pred)\n",
    "        y_val_pred = np.where(y_val_pred > 1.0, 1.0, y_val_pred)\n",
    "        y_val_pred = np.where(y_val_pred < 0.0, 0.0, y_val_pred)\n",
    "        \n",
    "        train_score[p] = mean_absolute_error(y_train, y_train_pred)\n",
    "        val_score[p] = mean_absolute_error(y_val, y_val_pred)\n",
    "    \n",
    "    print('best model parameters:',alpha[np.argmin(val_score)])\n",
    "    print('corresponding validation score:',np.min(val_score))\n",
    "    final_models.append(models[np.argmin(val_score)])\n",
    "    y_test_pred = final_models[-1].predict(X_test_prep)\n",
    "    y_test_pred = np.where(y_test_pred > 1.0, 1.0, y_test_pred)\n",
    "    y_test_pred = np.where(y_test_pred < 0.0, 0.0, y_test_pred)\n",
    "    test_scores[i] = mean_absolute_error(y_test, y_test_pred)\n",
    "    print('test score:',test_scores[i])"
   ]
  },
  {
   "cell_type": "code",
   "execution_count": 11,
   "id": "99b3f237",
   "metadata": {},
   "outputs": [
    {
     "data": {
      "text/plain": [
       "[Lasso(alpha=1e-07, max_iter=100000000),\n",
       " Lasso(alpha=1e-07, max_iter=100000000),\n",
       " Lasso(alpha=1e-07, max_iter=100000000),\n",
       " Lasso(alpha=1e-07, max_iter=100000000),\n",
       " Lasso(alpha=1e-07, max_iter=100000000),\n",
       " Lasso(alpha=1e-07, max_iter=100000000)]"
      ]
     },
     "execution_count": 11,
     "metadata": {},
     "output_type": "execute_result"
    }
   ],
   "source": [
    "lasso_models = final_models\n",
    "lasso_models"
   ]
  },
  {
   "cell_type": "code",
   "execution_count": 12,
   "id": "c73cd1ee",
   "metadata": {},
   "outputs": [
    {
     "data": {
      "text/plain": [
       "array([0.08785434, 0.08797101, 0.08693196, 0.08916462, 0.08810369,\n",
       "       0.08785256])"
      ]
     },
     "execution_count": 12,
     "metadata": {},
     "output_type": "execute_result"
    }
   ],
   "source": [
    "lasso_scores = test_scores\n",
    "lasso_scores"
   ]
  },
  {
   "cell_type": "code",
   "execution_count": 13,
   "id": "db222a98",
   "metadata": {},
   "outputs": [
    {
     "data": {
      "text/plain": [
       "array([1.e-07, 1.e-06, 1.e-05, 1.e-04, 1.e-03, 1.e-02, 1.e-01])"
      ]
     },
     "execution_count": 13,
     "metadata": {},
     "output_type": "execute_result"
    }
   ],
   "source": [
    "alpha = np.logspace(-7,-1,7)\n",
    "alpha"
   ]
  },
  {
   "cell_type": "code",
   "execution_count": 14,
   "id": "9641c098",
   "metadata": {},
   "outputs": [
    {
     "name": "stdout",
     "output_type": "stream",
     "text": [
      "best model parameters: 1e-07\n",
      "corresponding validation score: 0.08951472803879082\n",
      "test score: 0.08785404549417367\n",
      "best model parameters: 1e-07\n",
      "corresponding validation score: 0.08802644156166324\n",
      "test score: 0.08796424437316608\n",
      "best model parameters: 1e-07\n",
      "corresponding validation score: 0.0874332321190433\n",
      "test score: 0.08692292643930062\n",
      "best model parameters: 1e-07\n",
      "corresponding validation score: 0.08894899843093694\n",
      "test score: 0.08915692121863422\n",
      "best model parameters: 1e-07\n",
      "corresponding validation score: 0.08862746863184023\n",
      "test score: 0.08810329436387354\n",
      "best model parameters: 1e-07\n",
      "corresponding validation score: 0.08832555865908474\n",
      "test score: 0.0878522350920783\n"
     ]
    }
   ],
   "source": [
    "nr_states = 6\n",
    "test_scores = np.zeros(nr_states)\n",
    "final_models = []\n",
    "\n",
    "for i in range(nr_states):\n",
    "    X_train, X_other, y_train, y_other = train_test_split(X,y,train_size = 0.6,random_state=11*i)\n",
    "    X_val, X_test, y_val, y_test = train_test_split(X_other,y_other,train_size = 0.5,random_state=11*i)\n",
    "    \n",
    "    X_train_prep = prep.fit_transform(X_train)\n",
    "    X_val_prep = prep.transform(X_val)\n",
    "    X_test_prep = prep.transform(X_test)\n",
    "    \n",
    "    train_score = np.zeros(len(alpha))\n",
    "    val_score = np.zeros(len(alpha))\n",
    "    models = []\n",
    "    \n",
    "    for p in range(len(alpha)):\n",
    "        clf = Ridge(alpha=alpha[p],max_iter=100000000)\n",
    "        clf.fit(X_train_prep, y_train)\n",
    "        models.append(clf)\n",
    "        \n",
    "        y_train_pred = clf.predict(X_train_prep)\n",
    "        y_val_pred = clf.predict(X_val_prep)\n",
    "        y_train_pred = np.where(y_train_pred > 1.0, 1.0, y_train_pred)\n",
    "        y_train_pred = np.where(y_train_pred < 0.0, 0.0, y_train_pred)\n",
    "        y_val_pred = np.where(y_val_pred > 1.0, 1.0, y_val_pred)\n",
    "        y_val_pred = np.where(y_val_pred < 0.0, 0.0, y_val_pred)\n",
    "        \n",
    "        train_score[p] = mean_absolute_error(y_train, y_train_pred)\n",
    "        val_score[p] = mean_absolute_error(y_val, y_val_pred)\n",
    "    \n",
    "    print('best model parameters:',alpha[np.argmin(val_score)])\n",
    "    print('corresponding validation score:',np.min(val_score))\n",
    "    final_models.append(models[np.argmin(val_score)])\n",
    "    y_test_pred = final_models[-1].predict(X_test_prep)\n",
    "    y_test_pred = np.where(y_test_pred > 1.0, 1.0, y_test_pred)\n",
    "    y_test_pred = np.where(y_test_pred < 0.0, 0.0, y_test_pred)\n",
    "    test_scores[i] = mean_absolute_error(y_test, y_test_pred)\n",
    "    print('test score:',test_scores[i])"
   ]
  },
  {
   "cell_type": "code",
   "execution_count": 15,
   "id": "0a688403",
   "metadata": {},
   "outputs": [
    {
     "data": {
      "text/plain": [
       "[Ridge(alpha=1e-07, max_iter=100000000),\n",
       " Ridge(alpha=1e-07, max_iter=100000000),\n",
       " Ridge(alpha=1e-07, max_iter=100000000),\n",
       " Ridge(alpha=1e-07, max_iter=100000000),\n",
       " Ridge(alpha=1e-07, max_iter=100000000),\n",
       " Ridge(alpha=1e-07, max_iter=100000000)]"
      ]
     },
     "execution_count": 15,
     "metadata": {},
     "output_type": "execute_result"
    }
   ],
   "source": [
    "ridge_models = final_models\n",
    "ridge_models"
   ]
  },
  {
   "cell_type": "code",
   "execution_count": 16,
   "id": "84e9bf45",
   "metadata": {},
   "outputs": [
    {
     "data": {
      "text/plain": [
       "array([0.08785405, 0.08796424, 0.08692293, 0.08915692, 0.08810329,\n",
       "       0.08785224])"
      ]
     },
     "execution_count": 16,
     "metadata": {},
     "output_type": "execute_result"
    }
   ],
   "source": [
    "ridge_scores = test_scores\n",
    "ridge_scores"
   ]
  },
  {
   "cell_type": "code",
   "execution_count": null,
   "id": "b29b6ce8",
   "metadata": {},
   "outputs": [],
   "source": []
  }
 ],
 "metadata": {
  "kernelspec": {
   "display_name": "Python 3 (ipykernel)",
   "language": "python",
   "name": "python3"
  },
  "language_info": {
   "codemirror_mode": {
    "name": "ipython",
    "version": 3
   },
   "file_extension": ".py",
   "mimetype": "text/x-python",
   "name": "python",
   "nbconvert_exporter": "python",
   "pygments_lexer": "ipython3",
   "version": "3.9.7"
  }
 },
 "nbformat": 4,
 "nbformat_minor": 5
}
